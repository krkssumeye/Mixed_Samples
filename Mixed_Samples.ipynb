{
  "cells": [
    {
      "cell_type": "markdown",
      "source": [
        "# Chapter 1\n",
        "### Your first day at your new job 👩‍💻👨‍💻\n",
        "\n",
        "You are starting a new job as a junior software developer in an IT company. \n",
        "\n",
        "The company’s HR department asks you to fill out a form, so you start by assigning your personal information to corresponding variables.\n",
        "\n",
        "📌 Create a variable for your name, surname, age, ID number, place of residence, to specify if you have active health insurance or not, and lastly one for specifying your nationality.\n"
      ],
      "metadata": {
        "id": "VMuUK0ap_bRD"
      }
    },
    {
      "cell_type": "code",
      "execution_count": 39,
      "metadata": {
        "id": "OPLhhc2Sp-D0"
      },
      "outputs": [],
      "source": [
        "#Please assign your personal information to variables\n",
        "my_name = \"Sumeyye\"\n",
        "my_surname= \"Karakas\"\n",
        "my_age=22\n",
        "ID_number=123456789\n",
        "where_i_live = \"Istanbul\"\n",
        "health_insurance = True"
      ]
    },
    {
      "cell_type": "markdown",
      "metadata": {
        "id": "3zaUlxwcp-D0"
      },
      "source": [
        "###Meet And Greet\n",
        "Introduce yourself to your new co-workers.\n",
        "\n",
        "📌 Use a f-string to print \"My name is Joey Tribbiani I am 25 years old and I live in London”."
      ]
    },
    {
      "cell_type": "code",
      "source": [
        "#Write a sentence using the print function to describe yourself using the variables above in the correct data type\n",
        "print(f\"my name is {my_name} {my_surname} I am {str()}\")"
      ],
      "metadata": {
        "id": "XNuh5_2WXwvg",
        "colab": {
          "base_uri": "https://localhost:8080/"
        },
        "outputId": "4220962c-4140-4fe4-ec61-b981d2ce52cc"
      },
      "execution_count": 40,
      "outputs": [
        {
          "output_type": "stream",
          "name": "stdout",
          "text": [
            "my name is Sumeyye Karakas I am \n"
          ]
        }
      ]
    },
    {
      "cell_type": "markdown",
      "metadata": {
        "id": "EEL9To4ip-D1"
      },
      "source": [
        "### Equipment starter pack\n",
        "The HR department asks you to list the items you would need to improve your work efficiency\n",
        "\n",
        "Mandatory:\n",
        "* Laptop\n",
        "* Headset\n",
        "* Second monitor\n",
        "\n",
        "Optional:\n",
        "* Mousepad\n",
        "* USB drive\n",
        "* External drive\n",
        "\n",
        "\n",
        "📌 Create a shopping list that contains items above and print it."
      ]
    },
    {
      "cell_type": "code",
      "execution_count": 41,
      "metadata": {
        "id": "fPFBLDyqp-D2"
      },
      "outputs": [],
      "source": [
        "#Create the item_list\n",
        "item_list = ['laptop','headset','second monitor','mousepad','usb drive','external drive']"
      ]
    },
    {
      "cell_type": "code",
      "source": [
        "#Print the list\n",
        "print(item_list)"
      ],
      "metadata": {
        "id": "358R_CN5U2-J",
        "colab": {
          "base_uri": "https://localhost:8080/"
        },
        "outputId": "9dbb1461-b145-4a11-be2b-c2fe5ff20a5e"
      },
      "execution_count": 42,
      "outputs": [
        {
          "output_type": "stream",
          "name": "stdout",
          "text": [
            "['laptop', 'headset', 'second monitor', 'mousepad', 'usb drive', 'external drive']\n"
          ]
        }
      ]
    },
    {
      "cell_type": "markdown",
      "metadata": {
        "id": "5keEWjCyp-D2"
      },
      "source": [
        "####What is mandatory and what is optional?\n",
        "\n",
        "📌 Use list slicing to devide your list in two list: 'mandatory_item_list' and 'optional_item_list' and print both to the screen."
      ]
    },
    {
      "cell_type": "code",
      "execution_count": 43,
      "metadata": {
        "id": "E6ewuDYZp-D2"
      },
      "outputs": [],
      "source": [
        "#Use list slicing to divide the mandatory items\n",
        "mandatory_item_list = item_list[0:3]"
      ]
    },
    {
      "cell_type": "code",
      "source": [
        "#Use list slicing to divide the optional items\n",
        "optional_item_list =item_list[3:6] "
      ],
      "metadata": {
        "id": "hOmkym01RGEL"
      },
      "execution_count": 44,
      "outputs": []
    },
    {
      "cell_type": "code",
      "source": [
        "#Print both to the screen\n",
        "print(optional_item_list)\n",
        "print(mandatory_item_list)"
      ],
      "metadata": {
        "id": "xsVv1_msVE1_",
        "colab": {
          "base_uri": "https://localhost:8080/"
        },
        "outputId": "f92e5f3b-82e4-49bd-a62e-3e3362167924"
      },
      "execution_count": 45,
      "outputs": [
        {
          "output_type": "stream",
          "name": "stdout",
          "text": [
            "['mousepad', 'usb drive', 'external drive']\n",
            "['laptop', 'headset', 'second monitor']\n"
          ]
        }
      ]
    },
    {
      "cell_type": "markdown",
      "metadata": {
        "id": "s_M1Q93wp-D3"
      },
      "source": [
        "#### Go Shopping\n",
        "Next, you will have to go and purchase these items, the finance department confirmed a budget of $5000.\n",
        "\n",
        "📌 Assign 5000 to a variable called limit, so you know how much you can spend."
      ]
    },
    {
      "cell_type": "code",
      "execution_count": 46,
      "metadata": {
        "id": "nCmpm0oqp-D3"
      },
      "outputs": [],
      "source": [
        "#Assign the spending limit value to a variable called limit\n",
        "limit = 5000"
      ]
    },
    {
      "cell_type": "markdown",
      "metadata": {
        "id": "VwbEEymVp-D3"
      },
      "source": [
        "####Price dictionary\n",
        "\n",
        "Before you start shopping yo need to find the best items that you can buy within the company budget. \n",
        "\n",
        "📌 Prepare a dictionary called “price_sheet” that includes the items as keys and the prices as values.  \n",
        " "
      ]
    },
    {
      "cell_type": "code",
      "execution_count": 47,
      "metadata": {
        "id": "9o9n9Ag-p-D3"
      },
      "outputs": [],
      "source": [
        "#Create a dictionary that contains each item and its price\n",
        "price_sheet = {\n",
        "    \n",
        "    'laptop':1500,\n",
        "    'headset': 100,\n",
        "    'second monitor': 200,\n",
        "    'mousepad' : 50,\n",
        "    'usb drive' : 70,\n",
        "    'external drive' : 250\n",
        "}\n"
      ]
    },
    {
      "cell_type": "markdown",
      "metadata": {
        "id": "rUYivBVEBhCv"
      },
      "source": [
        "####Shopping functions\n",
        "\n",
        "You need to define three functions that will help you during shopping.\n",
        "\n",
        "📌 First, create an empty list that  will be your shopping cart. Here you will add the items you need to purchase.\n",
        "\n",
        "1. Define a function for both adding items to the cart and removing them from the item_list.\n",
        "\n",
        "📌 The \"add_to_cart\" function should take the item name and the quantity to buy as an argument. \n",
        "\n",
        "2. Define a function that will create an invoice. \n",
        "\n",
        "📌 The \"create_invoice\" function should calculate the taxes of each item (18%) and add it to the total amount.\n",
        "\n",
        "3. Define a function for the checkout. \n",
        "\n",
        "📌 The \"checkout\" function should subtract the total amount from the budget and print a statement to inform if the payment was successful. "
      ]
    },
    {
      "cell_type": "code",
      "source": [
        "#Initialize the cart list\n",
        "cart = []"
      ],
      "metadata": {
        "id": "dBNZ2ZdkGHUe"
      },
      "execution_count": 48,
      "outputs": []
    },
    {
      "cell_type": "code",
      "source": [
        "#Define the \"add_to_cart\" function\n",
        "def add_to_cart (item,quantity):\n",
        "  cart.append((item,quantity))\n",
        "  item_list.remove(item)"
      ],
      "metadata": {
        "id": "HH26hHHFGKPJ"
      },
      "execution_count": 49,
      "outputs": []
    },
    {
      "cell_type": "code",
      "source": [
        "#Define the \"create_invoice\" function\n",
        "def create_invoice():\n",
        "  total_amount_inc_tax = 0\n",
        "  for item, quantity in cart:\n",
        "    price = price_sheet[item]\n",
        "    tax = 0.18 * price\n",
        "    total = (tax + price) * quantity\n",
        "    total_amount_inc_tax +=total\n",
        "    print('Item: ', item, '\\t','Price: ',price, '\\t', 'Quantity:',quantity, '\\t', 'Tax:', tax,'\\t','Total: ', total, '\\n')\n",
        "  \n",
        "  print(\"After the taxes are applied the total amount is : \" , '\\t', total_amount_inc_tax)\n",
        "\n",
        "  return total_amount_inc_tax\n"
      ],
      "metadata": {
        "id": "TUmNr4xVGQdm"
      },
      "execution_count": 50,
      "outputs": []
    },
    {
      "cell_type": "code",
      "source": [
        "#Define the \"checkout\" function\n",
        "def checkout():\n",
        "  global limit\n",
        "  total_amount= create_invoice()\n",
        "  if limit ==0:\n",
        "    print(\"you don't have any budget\")\n",
        "  elif total_amount > limit:\n",
        "    print(\"the amount you have to pay is above the spending limit. You have to drop some items.\")\n",
        "  else:\n",
        "    limit -= total_amount\n",
        "    print(f\"the total amount (incl. taxes) you've paid is {total_amount}. You have{limit} dollars left\")"
      ],
      "metadata": {
        "id": "iUlKiXgMGdIk"
      },
      "execution_count": 51,
      "outputs": []
    },
    {
      "cell_type": "markdown",
      "source": [
        "Let's shop!"
      ],
      "metadata": {
        "id": "2IFUlu0yB0In"
      }
    },
    {
      "cell_type": "code",
      "source": [
        "#Call the \"add_to_cart\" function for each item\n",
        " \n",
        "#Add first item to cart\n",
        "add_to_cart (\"laptop\", 1)\n",
        "#Add second item to cart\n",
        "\n",
        "add_to_cart (\"headset\", 3)\n",
        "#Add third item to cart\n",
        "\n",
        "add_to_cart (\"second monitor\", 2)\n",
        "#Add fourth item to cart\n",
        "\n",
        "add_to_cart (\"mousepad\", 2)\n",
        "#Add fifth item to cart\n",
        "\n",
        "add_to_cart (\"usb drive\", 1)\n",
        "#Add last item to cart\n",
        "\n",
        "add_to_cart (\"external drive\", 1)\n",
        "#Call the create \"checkout\" function to pay for all your items \n",
        "checkout()"
      ],
      "metadata": {
        "id": "FDO7CRJTWPg7",
        "colab": {
          "base_uri": "https://localhost:8080/"
        },
        "outputId": "9dc815fc-968c-4fc6-cddd-e6b10cfd00c6"
      },
      "execution_count": 52,
      "outputs": [
        {
          "output_type": "stream",
          "name": "stdout",
          "text": [
            "Item:  laptop \t Price:  1500 \t Quantity: 1 \t Tax: 270.0 \t Total:  1770.0 \n",
            "\n",
            "Item:  headset \t Price:  100 \t Quantity: 3 \t Tax: 18.0 \t Total:  354.0 \n",
            "\n",
            "Item:  second monitor \t Price:  200 \t Quantity: 2 \t Tax: 36.0 \t Total:  472.0 \n",
            "\n",
            "Item:  mousepad \t Price:  50 \t Quantity: 2 \t Tax: 9.0 \t Total:  118.0 \n",
            "\n",
            "Item:  usb drive \t Price:  70 \t Quantity: 1 \t Tax: 12.6 \t Total:  82.6 \n",
            "\n",
            "Item:  external drive \t Price:  250 \t Quantity: 1 \t Tax: 45.0 \t Total:  295.0 \n",
            "\n",
            "After the taxes are applied the total amount is :  \t 3091.6\n",
            "the total amount (incl. taxes) you've paid is 3091.6. You have1908.4 dollars left\n"
          ]
        }
      ]
    },
    {
      "cell_type": "markdown",
      "source": [
        "###Game Night\n",
        "\n",
        "You are back at the office and the HR department organizes a welcome party for new employees. \n",
        "\n",
        "You decide to create a Rock-Paper-Scissor game. \n",
        "\n",
        "📌 Create a Rock-Paper-Scissor game in which the user plays against the computer. The player will choose one of the actions, and the computer will choose its action randomly.\n"
      ],
      "metadata": {
        "id": "ZL-r2x_xKixg"
      }
    },
    {
      "cell_type": "code",
      "source": [
        "#Import the random library\n",
        "import random"
      ],
      "metadata": {
        "id": "qzD5pxBTgcFb"
      },
      "execution_count": 53,
      "outputs": []
    },
    {
      "cell_type": "code",
      "source": [
        "#create a list containing the three actions of the game.\n",
        "action_list = ['rock','paper','scissors']"
      ],
      "metadata": {
        "id": "oJv-ihLAgcRo"
      },
      "execution_count": 54,
      "outputs": []
    },
    {
      "cell_type": "code",
      "source": [
        "#Set the scores of players to 0\n",
        "\n",
        "computer_score=0\n",
        "player_score=0    \n",
        "#Ask the user how many rounds they want to play\n",
        "total_rounds = input(\"how many rounds do you want to play? Please enter a number here:\")\n",
        "\n",
        "#Add a round_counter that is 0 at the beginning\n",
        "round_counter=0\n",
        "\n",
        "\n",
        "#Write a while loop and put the game inside\n",
        "while True:\n",
        "  \n",
        "  #Increase round_counter by and print it\n",
        "  round_counter +=1\n",
        "  print(\"round number: \", round_counter)\n",
        "\n",
        "\n",
        "  #Select a random action for computer\n",
        "  computer_choice = random.choice(action_list)\n",
        "\n",
        "  #Ask player to choose an action\n",
        "  player_choice = input(\"please choose your action:\")\n",
        "\n",
        "  #Print the players choices\n",
        "  print(\"computer:\", computer_choice)\n",
        "  print(\"player: \", player_choice)\n",
        "\n",
        "\n",
        "  #tie condition\n",
        "  if computer_choice == player_choice:\n",
        "    print(\"tie! Both players chose the same action\")\n",
        "\n",
        "\n",
        "  #Remaining conditions\n",
        "  elif computer_choice == 'paper':\n",
        "    if player_choice== 'rock':\n",
        "      print(\"winner is: Computer\")\n",
        "      computer_score +=1\n",
        "    else:\n",
        "      print(\"winner is: player\")\n",
        "      player_score += 1\n",
        "\n",
        "  elif computer_choice == 'rock':\n",
        "      if player_choice =='paper':\n",
        "        print(\"winner is:player:\" )\n",
        "        player_score += 1\n",
        "      else:\n",
        "        print(\"winner is: computer\")\n",
        "        computer_score +=1\n",
        "  elif computer_choice == 'scissors':\n",
        "      if player_choice == 'paper':\n",
        "        print(\"winner is: computer\")\n",
        "        computer_score += 1\n",
        "      else:\n",
        "        print(\"winner is : player\")\n",
        "        player_score += 1\n",
        "\n",
        "  \n",
        "  #Stop the while loop if the round_counter equals the number of total rounds\n",
        "  if round_counter == int(total_rounds):\n",
        "    break\n",
        "\n",
        "\n",
        "#Print the outcome of the game by using conditional statements\n",
        "if computer_score == player_score:\n",
        "  print(\"there is no winner, tie\" , computer_score, \":\",player_score)\n",
        "elif computer_score> player_score:\n",
        "  print(\"computer won with score\", computer_score,\":\", player_score)\n",
        "elif computer_score< player_score:\n",
        "  print(\"player won with score\", computer_score,\":\", player_score)"
      ],
      "metadata": {
        "id": "DNUa_9afWqMd",
        "colab": {
          "base_uri": "https://localhost:8080/"
        },
        "outputId": "65f8f38c-13c2-438b-de3c-f4e225d3502f"
      },
      "execution_count": 55,
      "outputs": [
        {
          "output_type": "stream",
          "name": "stdout",
          "text": [
            "how many rounds do you want to play? Please enter a number here:1\n",
            "round number:  1\n",
            "please choose your action:paper\n",
            "computer: rock\n",
            "player:  paper\n",
            "winner is:player:\n",
            "player won with score 0 : 1\n"
          ]
        }
      ]
    },
    {
      "cell_type": "markdown",
      "metadata": {
        "id": "jdrYN0Xgp-D6"
      },
      "source": [
        "# Your first task \n",
        "\n",
        "Rachel asks you to write a program to track the name and revenue each employee brings.  \n",
        "\n",
        "* Create the \"salesperson_revenue\" dictionary to see the employee name as a key and the revenue as a value.\n",
        "\n",
        "  📌 Every employee starts with 0 revenue.\n",
        "* Define the \"enter_revenue\" function. \n",
        "\n",
        "  📌 The function takes the name and revenue as an argument and updates the salesperson_revenue dictionary.\n"
      ]
    },
    {
      "cell_type": "code",
      "source": [
        "#Create salesperson_revenue dictionary\n",
        "salesperson_revenue = {\n",
        "    \"Ben\" : 0,\n",
        "    \"Sumeyye\": 0,\n",
        "    \"Deniz\":0,\n",
        "    \"Sue\":0,\n",
        "    \"Rose\":0\n",
        "}\n"
      ],
      "metadata": {
        "id": "3vzRo7hyMRv2"
      },
      "execution_count": 56,
      "outputs": []
    },
    {
      "cell_type": "code",
      "source": [
        "#Define enter_revenue function\n",
        "def enter_revenue(name,revenue):\n",
        "  global salesperson_revenue\n",
        "  salesperson_revenue[name] += revenue\n"
      ],
      "metadata": {
        "id": "m-8IozBwMRzM"
      },
      "execution_count": 57,
      "outputs": []
    },
    {
      "cell_type": "markdown",
      "source": [
        "####Try out the functions\n",
        "* In a while loop ask the user to give the name of the employee and for the revenue \n",
        "\n",
        "  📌 If the user enters “quit” the loop should break.\n",
        "\n",
        "After that, print out the salesperson_revenue dictionary.\n"
      ],
      "metadata": {
        "id": "UnTGSoNTi58u"
      }
    },
    {
      "cell_type": "code",
      "source": [
        "#Asking user employee name as input\n",
        "while True:\n",
        "  name = input(\"employee name:\")\n",
        "  if name == \"quit\":\n",
        "    break\n",
        "  revenue = int(input(\"enter revenue: \"))\n",
        "  enter_revenue(name,revenue)\n",
        "  print(f\"{name}'s revenue is {salesperson_revenue[name]}\")\n",
        "  "
      ],
      "metadata": {
        "id": "2E549VvFXNi6",
        "colab": {
          "base_uri": "https://localhost:8080/"
        },
        "outputId": "16b7d17c-5f8b-48b5-9dc2-924749151ac3"
      },
      "execution_count": 58,
      "outputs": [
        {
          "name": "stdout",
          "output_type": "stream",
          "text": [
            "employee name:Sue\n",
            "enter revenue: 100\n",
            "Sue's revenue is 100\n",
            "employee name:Deniz\n",
            "enter revenue: 100\n",
            "Deniz's revenue is 100\n",
            "employee name:Sumeyye\n",
            "enter revenue: 1000\n",
            "Sumeyye's revenue is 1000\n",
            "employee name:Rose\n",
            "enter revenue: 500\n",
            "Rose's revenue is 500\n",
            "employee name:Ben\n",
            "enter revenue: 200\n",
            "Ben's revenue is 200\n",
            "employee name:quit\n"
          ]
        }
      ]
    },
    {
      "cell_type": "code",
      "source": [
        "#Print the salesperson_revenue dictionary\n",
        "print(salesperson_revenue)"
      ],
      "metadata": {
        "id": "OAvl9rgOXPe6",
        "colab": {
          "base_uri": "https://localhost:8080/"
        },
        "outputId": "543b1182-f380-477b-c30c-2688a4ca3016"
      },
      "execution_count": 59,
      "outputs": [
        {
          "output_type": "stream",
          "name": "stdout",
          "text": [
            "{'Ben': 200, 'Sumeyye': 1000, 'Deniz': 100, 'Sue': 100, 'Rose': 500}\n"
          ]
        }
      ]
    }
  ],
  "metadata": {
    "interpreter": {
      "hash": "c5914ae3790566b9cd0e984a9bdda42a29da8adf046b5ac0173e0d37aacf3dab"
    },
    "kernelspec": {
      "display_name": "Python 3.9.7",
      "language": "python",
      "name": "python3"
    },
    "language_info": {
      "codemirror_mode": {
        "name": "ipython",
        "version": 3
      },
      "file_extension": ".py",
      "mimetype": "text/x-python",
      "name": "python",
      "nbconvert_exporter": "python",
      "pygments_lexer": "ipython3",
      "version": "3.9.7"
    },
    "orig_nbformat": 4,
    "colab": {
      "provenance": [],
      "collapsed_sections": []
    }
  },
  "nbformat": 4,
  "nbformat_minor": 0
}